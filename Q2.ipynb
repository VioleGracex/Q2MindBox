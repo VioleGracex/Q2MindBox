{
 "cells": [
  {
   "cell_type": "code",
   "execution_count": 1,
   "id": "c46ab9db",
   "metadata": {},
   "outputs": [
    {
     "name": "stdout",
     "output_type": "stream",
     "text": [
      "Площадь круга с радиусом 5 : 78.53981633974483\n",
      "Площадь треугольника со сторонами 3 4 5 : 6.0\n",
      "Треугольник со сторонами 3 4 5 является прямоугольным: True\n",
      "Площадь прямоугольника с шириной 4 и высотой 6 : 24\n"
     ]
    }
   ],
   "source": [
    "import math\n",
    "\n",
    "def calculate_circle_area(radius):\n",
    "    return math.pi * radius ** 2\n",
    "\n",
    "def calculate_triangle_area(side1, side2, side3):\n",
    "    # Используем формулу Герона для вычисления площади треугольника\n",
    "    s = (side1 + side2 + side3) / 2\n",
    "    return math.sqrt(s * (s - side1) * (s - side2) * (s - side3))\n",
    "\n",
    "def calculate_rectangle_area(width, height):\n",
    "    return width * height\n",
    "\n",
    "def is_right_triangle(side1, side2, side3):\n",
    "    sides = [side1, side2, side3]\n",
    "    sides.sort()\n",
    "    return sides[0] ** 2 + sides[1] ** 2 == sides[2] ** 2\n",
    "\n",
    "def add_new_figure(figure_name, calculation_function):\n",
    "    figures[figure_name] = calculation_function\n",
    "\n",
    "def calculate_area(figure_name, *args):\n",
    "    if figure_name in figures:\n",
    "        return figures[figure_name](*args)\n",
    "    else:\n",
    "        raise ValueError(\"Фигура не найдена\")\n",
    "\n",
    "# Инициализируем словарь с доступными фигурами и их функциями вычисления площади\n",
    "figures = {\n",
    "    'circle': calculate_circle_area,\n",
    "    'triangle': calculate_triangle_area,\n",
    "    'rectangle': calculate_rectangle_area\n",
    "}\n",
    "\n",
    "# Добавляем проверку для прямоугольности треугольника\n",
    "add_new_figure('right_triangle', is_right_triangle)\n",
    "\n",
    "# Пример использования\n",
    "radius = 5\n",
    "print(\"Площадь круга с радиусом\", radius, \":\", calculate_area('circle', radius))\n",
    "\n",
    "side1, side2, side3 = 3, 4, 5\n",
    "print(\"Площадь треугольника со сторонами\", side1, side2, side3, \":\", calculate_area('triangle', side1, side2, side3))\n",
    "print(\"Треугольник со сторонами\", side1, side2, side3, \"является прямоугольным:\", is_right_triangle(side1, side2, side3))\n",
    "\n",
    "width, height = 4, 6\n",
    "print(\"Площадь прямоугольника с шириной\", width, \"и высотой\", height, \":\", calculate_area('rectangle', width, height))\n"
   ]
  },
  {
   "cell_type": "code",
   "execution_count": null,
   "id": "ef9631af",
   "metadata": {},
   "outputs": [],
   "source": []
  }
 ],
 "metadata": {
  "kernelspec": {
   "display_name": "Python 3 (ipykernel)",
   "language": "python",
   "name": "python3"
  },
  "language_info": {
   "codemirror_mode": {
    "name": "ipython",
    "version": 3
   },
   "file_extension": ".py",
   "mimetype": "text/x-python",
   "name": "python",
   "nbconvert_exporter": "python",
   "pygments_lexer": "ipython3",
   "version": "3.9.7"
  }
 },
 "nbformat": 4,
 "nbformat_minor": 5
}
